{
 "cells": [
  {
   "cell_type": "code",
   "execution_count": null,
   "metadata": {},
   "outputs": [],
   "source": [
    "# Dependencies\n",
    "import random\n",
    "import numpy as np\n",
    "import pandas as pd\n",
    "import matplotlib.pyplot as plt\n",
    "import openweathermapy as owm\n",
    "import requests\n",
    "\n",
    "from citipy import citipy\n",
    "from config import api_key"
   ]
  },
  {
   "cell_type": "code",
   "execution_count": null,
   "metadata": {},
   "outputs": [],
   "source": [
    "coord = []\n",
    "for x in range(0,50):\n",
    "    lat = np.random.uniform(-90,90)\n",
    "    lng = np.random.uniform(-100,180)\n",
    "    x = [lat, lng]\n",
    "    coord.append(x)\n"
   ]
  },
  {
   "cell_type": "code",
   "execution_count": null,
   "metadata": {},
   "outputs": [],
   "source": [
    "cities = []\n",
    "country = []\n",
    "for coord_pair in coord:\n",
    "    lat, lng = coord_pair\n",
    "    cities.append(citipy.nearest_city(lat, lng).city_name)\n",
    "    country.append(citipy.nearest_city(lat, lng).country_code)\n",
    "\n",
    "print(cities)\n",
    "print(country)"
   ]
  },
  {
   "cell_type": "code",
   "execution_count": null,
   "metadata": {},
   "outputs": [],
   "source": [
    "# Save config information.\n",
    "url = \"http://api.openweathermap.org/data/2.5/weather?\"\n",
    "units = \"imperial\"\n",
    "\n",
    "# Build partial query URL\n",
    "query_url = f\"{url}appid={api_key}&units={units}&q=\"\n",
    "response = requests.get(query_url + 'busselton').json()\n",
    "response"
   ]
  },
  {
   "cell_type": "code",
   "execution_count": null,
   "metadata": {},
   "outputs": [],
   "source": [
    "lat = []\n",
    "temp = []\n",
    "hum = []\n",
    "cloud = []\n",
    "wind =[]\n",
    "\n",
    "# Loop through the list of cities and perform a request for data on each\n",
    "for city in cities:\n",
    "    response = requests.get(query_url + city).json()\n",
    "    lat.append(response['coord']['lat'])\n",
    "    temp.append(response['main']['temp'])\n",
    "    hum.append(response['main']['humidity'])\n",
    "    cloud.append(response['clouds']['all'])\n",
    "    wind.append(response['wind']['speed'])\n",
    "\n",
    "print(lat)\n",
    "print(temp)\n",
    "print(hum)\n"
   ]
  },
  {
   "cell_type": "code",
   "execution_count": null,
   "metadata": {},
   "outputs": [],
   "source": [
    "# Extract values and create a DataFrame with the results\n",
    "summary = [\"coord.lat\", \"main.temp\", \"main.humidity\", \"clouds.all\", \"wind.speed\"]\n",
    "column_names = [\"Latitude\", \"Temperature\", \"Humidity\", \"Cloudiness\", \"Wind Speed\"]\n",
    "\n",
    "data_df = [response(*summary) for response in data]\n",
    "\n",
    "data = pd.DataFrame(data_df, index=cities, columns=column_names)\n",
    "data"
   ]
  },
  {
   "cell_type": "code",
   "execution_count": null,
   "metadata": {},
   "outputs": [],
   "source": [
    "# Create a settings object with your API key and preferred units\n",
    "\n",
    "settings = {\"units\": \"imperial\", \"appid\": api_key}\n",
    "\n",
    "data = []\n",
    "data = [owm.get_current(city, **settings) for city in cities2]"
   ]
  },
  {
   "cell_type": "code",
   "execution_count": null,
   "metadata": {},
   "outputs": [],
   "source": [
    "# Extract values and create a DataFrame with the results\n",
    "summary = [\"coord.lat\", \"main.temp\", \"main.humidity\", \"clouds.all\", \"wind.speed\"]\n",
    "column_names = [\"Latitude\", \"Temperature\", \"Humidity\", \"Cloudiness\", \"Wind Speed\"]\n",
    "\n",
    "data_df = [response(*summary) for response in data]\n",
    "\n",
    "data = pd.DataFrame(data_df, index=cities, columns=column_names)\n",
    "data"
   ]
  }
 ],
 "metadata": {
  "kernelspec": {
   "display_name": "Python 3",
   "language": "python",
   "name": "python3"
  },
  "language_info": {
   "codemirror_mode": {
    "name": "ipython",
    "version": 3
   },
   "file_extension": ".py",
   "mimetype": "text/x-python",
   "name": "python",
   "nbconvert_exporter": "python",
   "pygments_lexer": "ipython3",
   "version": "3.6.4"
  }
 },
 "nbformat": 4,
 "nbformat_minor": 2
}
