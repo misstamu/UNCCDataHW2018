{
 "cells": [
  {
   "cell_type": "markdown",
   "metadata": {},
   "source": [
    "# WeatherPy"
   ]
  },
  {
   "cell_type": "markdown",
   "metadata": {},
   "source": [
    "Observations:\n",
    "The latitiude vs temperature plot shows the hottest temps or close to are at the equator (0 degrees) and decrease the further you move from it.\n",
    "\n",
    "According to the plot many of the cities have at least 60% humidity in the air at the time of the data retrieval.\n",
    "\n",
    "The wind speed is below 10 mph for most cities in the analysis."
   ]
  },
  {
   "cell_type": "code",
   "execution_count": null,
   "metadata": {},
   "outputs": [],
   "source": [
    "# Dependencies\n",
    "import random\n",
    "import numpy as np\n",
    "import pandas as pd\n",
    "import matplotlib.pyplot as plt\n",
    "import openweathermapy as owm\n",
    "import requests\n",
    "\n",
    "from citipy import citipy\n",
    "from config import api_key"
   ]
  },
  {
   "cell_type": "code",
   "execution_count": null,
   "metadata": {},
   "outputs": [],
   "source": [
    "#randomly select coordinates for cities and store\n",
    "coord = []\n",
    "for x in range(0,800):\n",
    "    lat = np.random.uniform(-90,90)\n",
    "    lng = np.random.uniform(-180,180)\n",
    "    x = [lat, lng]\n",
    "    coord.append(x)"
   ]
  },
  {
   "cell_type": "markdown",
   "metadata": {},
   "source": [
    "#Generate Cities List"
   ]
  },
  {
   "cell_type": "code",
   "execution_count": null,
   "metadata": {},
   "outputs": [],
   "source": [
    "#Use citipy to get city and country name for the randomly selected coordinates\n",
    "cities = []\n",
    "country = []\n",
    "for coord_pair in coord:\n",
    "    lat, lng = coord_pair\n",
    "    cities.append(citipy.nearest_city(lat, lng).city_name)\n",
    "    country.append(citipy.nearest_city(lat, lng).country_code)\n",
    "city_df = pd.DataFrame({'City':cities,'Country':country})\n",
    "\n",
    "\n",
    "# Add columns for other values\n",
    "\n",
    "city_df[\"Latitude\"] = \"\"\n",
    "city_df[\"Temperature\"] = \"\"\n",
    "city_df[\"Humidity\"] = \"\"\n",
    "city_df[\"Cloudiness\"] = \"\"\n",
    "city_df[\"Wind Speed\"] = \"\"\n",
    "city_df.head()"
   ]
  },
  {
   "cell_type": "markdown",
   "metadata": {},
   "source": [
    "#Perform API Calls"
   ]
  },
  {
   "cell_type": "code",
   "execution_count": null,
   "metadata": {},
   "outputs": [],
   "source": [
    "#Counter for rows\n",
    "row_count = 1\n",
    "\n",
    "#Loop through cities to gather values for dataframe\n",
    "for index, row in city_df.iterrows():\n",
    "    # get city from df\n",
    "    city = row[\"City\"]\n",
    "    \n",
    "    url = \"http://api.openweathermap.org/data/2.5/weather?\"\n",
    "    units = \"imperial\"\n",
    "    \n",
    "    # Build partial query URL\n",
    "    query_url = f\"{url}appid={api_key}&units={units}&q=\"\n",
    "    \n",
    "    # Print log to ensure loop is working correctly\n",
    "    print(\"Now retrieving city # \" + str(row_count) + \" \" + str(city))\n",
    "    row_count += 1\n",
    "   \n",
    "    # make request and print url\n",
    "    response = requests.get(query_url + city)\n",
    "    print(response.url)\n",
    "    \n",
    "    response = response.json()\n",
    "   \n",
    "    # Append retrieved values to the appropriate columns\n",
    "    # Use try / except to skip any cities with errors\n",
    "    try:\n",
    "        lat_city = response[\"coord\"][\"lat\"]\n",
    "        temp_city = response[\"main\"][\"temp\"]\n",
    "        hum_city = response[\"main\"][\"humidity\"]\n",
    "        cloud_city = response[\"clouds\"][\"all\"]\n",
    "        wind_city = response[\"wind\"][\"speed\"]\n",
    "    \n",
    "    except (KeyError, IndexError):\n",
    "        print(\"Error with city data. Skipping\")\n",
    "\n",
    "        city_df.set_value(index, \"Latitude\", lat_city)\n",
    "        city_df.set_value(index, \"Temperature\", temp_city)\n",
    "        city_df.set_value(index, \"Humidity\", hum_city)\n",
    "        city_df.set_value(index, \"Cloudiness\", cloud_city)\n",
    "        city_df.set_value(index, \"Wind Speed\", wind_city)\n",
    "        \n",
    "        continue\n",
    "\n"
   ]
  },
  {
   "cell_type": "code",
   "execution_count": null,
   "metadata": {},
   "outputs": [],
   "source": [
    "city_df.count()"
   ]
  },
  {
   "cell_type": "code",
   "execution_count": null,
   "metadata": {},
   "outputs": [],
   "source": [
    "city_df.head()"
   ]
  },
  {
   "cell_type": "code",
   "execution_count": null,
   "metadata": {},
   "outputs": [],
   "source": [
    "# Save data to csv\n",
    "city_df.to_csv(\"City Weather Output.csv\")"
   ]
  },
  {
   "cell_type": "markdown",
   "metadata": {},
   "source": [
    "#Latitude vs Temperature Plot"
   ]
  },
  {
   "cell_type": "code",
   "execution_count": null,
   "metadata": {},
   "outputs": [],
   "source": [
    "#create series array for scatter plot\n",
    "xlat = np.array(city_df['Latitude'])\n",
    "ytemp = np.array(city_df['Temperature'])\n",
    "\n",
    "#Create scatter plot for each data type\n",
    "plt.scatter(xlat,ytemp,edgecolor=\"black\", linewidths=1, marker=\"o\",alpha=0.8, label=\"Temperature\")\n",
    "\n",
    "# Create a title, x label, y label and legend for chart\n",
    "plt.title(\"City Latitude vs Temperature\")\n",
    "plt.xlabel(\"Latitude\")\n",
    "plt.ylabel(\"Temperature (F)\")\n",
    "plt.grid(True)\n",
    "plt.xlim([-95, 95])\n",
    "\n",
    "plt.savefig(\"City Temp vs Lat.png\")\n",
    "plt.show()"
   ]
  },
  {
   "cell_type": "markdown",
   "metadata": {},
   "source": [
    "#Latitude vs Humidity Plot"
   ]
  },
  {
   "cell_type": "code",
   "execution_count": null,
   "metadata": {},
   "outputs": [],
   "source": [
    "#create series array for scatter plot\n",
    "yhum = np.array(city_df['Humidity'])\n",
    "\n",
    "#Create scatter plot for each data type\n",
    "plt.scatter(xlat,yhum,edgecolor=\"black\", linewidths=1, marker=\"o\",alpha=0.8, label=\"Humidity\")\n",
    "\n",
    "# Create a title, x label, y label and legend for chart\n",
    "plt.title(\"City Latitude vs Humidity\")\n",
    "plt.xlabel(\"Latitude\")\n",
    "plt.ylabel(\"Humidity (%)\")\n",
    "plt.grid(True)\n",
    "plt.xlim([-95, 95])\n",
    "\n",
    "plt.savefig(\"City Humidity vs Lat.png\")\n",
    "plt.show()"
   ]
  },
  {
   "cell_type": "markdown",
   "metadata": {},
   "source": [
    "#Latitude vs Cloudiness Plot"
   ]
  },
  {
   "cell_type": "code",
   "execution_count": null,
   "metadata": {},
   "outputs": [],
   "source": [
    "#create series array for scatter plot\n",
    "ycloud = np.array(city_df['Cloudiness'])\n",
    "\n",
    "#Create scatter plot for each data type\n",
    "plt.scatter(xlat,ycloud,edgecolor=\"black\", linewidths=1, marker=\"o\",alpha=0.8, label=\"Cloudiness\")\n",
    "\n",
    "# Create a title, x label, y label and legend for chart\n",
    "plt.title(\"City Latitude vs Cloudiness\")\n",
    "plt.xlabel(\"Latitude\")\n",
    "plt.ylabel(\"Cloudiness (%)\")\n",
    "plt.grid(True)\n",
    "plt.xlim([-95, 95])\n",
    "\n",
    "plt.savefig(\"City Cloudiness vs Lat.png\")\n",
    "plt.show()"
   ]
  },
  {
   "cell_type": "markdown",
   "metadata": {},
   "source": [
    "#Latitude vs Wind Speed Plot"
   ]
  },
  {
   "cell_type": "code",
   "execution_count": null,
   "metadata": {},
   "outputs": [],
   "source": [
    "#create series array for scatter plot\n",
    "yspeed = np.array(city_df['Wind Speed'])\n",
    "\n",
    "#Create scatter plot for each data type\n",
    "plt.scatter(xlat,yspeed,edgecolor=\"black\", linewidths=1, marker=\"o\",alpha=0.8, label=\"Wind Speed\")\n",
    "\n",
    "# Create a title, x label, y label and legend for chart\n",
    "plt.title(\"City Latitude vs Wind Speed\")\n",
    "plt.xlabel(\"Latitude\")\n",
    "plt.ylabel(\"Wind Speed (mph)\")\n",
    "plt.grid(True)\n",
    "plt.xlim([-95, 95])\n",
    "\n",
    "plt.savefig(\"City Wind Speed vs Lat.png\")\n",
    "plt.show()"
   ]
  },
  {
   "cell_type": "code",
   "execution_count": null,
   "metadata": {},
   "outputs": [],
   "source": []
  }
 ],
 "metadata": {
  "kernelspec": {
   "display_name": "Python 3",
   "language": "python",
   "name": "python3"
  },
  "language_info": {
   "codemirror_mode": {
    "name": "ipython",
    "version": 3
   },
   "file_extension": ".py",
   "mimetype": "text/x-python",
   "name": "python",
   "nbconvert_exporter": "python",
   "pygments_lexer": "ipython3",
   "version": "3.6.4"
  }
 },
 "nbformat": 4,
 "nbformat_minor": 2
}
